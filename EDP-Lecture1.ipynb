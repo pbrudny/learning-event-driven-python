{
  "metadata": {
    "kernelspec": {
      "name": "python",
      "display_name": "Python (Pyodide)",
      "language": "python"
    },
    "language_info": {
      "codemirror_mode": {
        "name": "python",
        "version": 3
      },
      "file_extension": ".py",
      "mimetype": "text/x-python",
      "name": "python",
      "nbconvert_exporter": "python",
      "pygments_lexer": "ipython3",
      "version": "3.8"
    }
  },
  "nbformat_minor": 4,
  "nbformat": 4,
  "cells": [
    {
      "cell_type": "markdown",
      "source": "# Event Driven Programming",
      "metadata": {}
    },
    {
      "cell_type": "markdown",
      "source": "1. We will use Python - Until November 20\n2. Then we will jump into Node.js",
      "metadata": {}
    },
    {
      "cell_type": "markdown",
      "source": "# What is EDP?",
      "metadata": {}
    },
    {
      "cell_type": "markdown",
      "source": "Event-driven programming (EDP) is a programming paradigm where the flow of the program is determined by events—user actions, sensor outputs, or messages from other programs. Unlike procedural programming, where commands are executed in a pre-defined sequence, event-driven programming responds to external or internal stimuli in real time.\n\n",
      "metadata": {}
    },
    {
      "cell_type": "markdown",
      "source": "## Programming Paradigms",
      "metadata": {}
    },
    {
      "cell_type": "markdown",
      "source": "### Procedural: Follows a strict, top-down flow of execution.\n### OOP: Organizes code into objects, but execution is still sequential unless external actions explicitly call methods.\n### Event-Driven: Execution depends on events (user actions, sensor outputs), and the program typically stays idle (in an event loop) until something triggers it.",
      "metadata": {}
    },
    {
      "cell_type": "markdown",
      "source": "### Procedural (top-down)",
      "metadata": {}
    },
    {
      "cell_type": "code",
      "source": "def say_hello():\n    print(\"Hello\")\n    print(\"Hello\")\n    print(\"Hello\")\n\ndef main():\n    say_hello()\n\nmain()",
      "metadata": {
        "trusted": true
      },
      "outputs": [
        {
          "name": "stdout",
          "text": "Hello\nHello\nHello\n",
          "output_type": "stream"
        }
      ],
      "execution_count": 14
    },
    {
      "cell_type": "markdown",
      "source": "## Object Oriented Programming ",
      "metadata": {}
    },
    {
      "cell_type": "code",
      "source": "# we define a class\nclass Animal:\n    def __init__(self, name): \n        self.name = name\n\ndef main():\n    # we create an instance of that class (object)\n    cat1 = Animal('Cat')\n\n    # we call a method on that instance\n    print(\"This is a\", cat1.name)\n\nmain()\n    ",
      "metadata": {
        "trusted": true
      },
      "outputs": [
        {
          "name": "stdout",
          "text": "This is a Cat\n",
          "output_type": "stream"
        }
      ],
      "execution_count": 16
    },
    {
      "cell_type": "markdown",
      "source": "## Event Driven Programming",
      "metadata": {}
    },
    {
      "cell_type": "markdown",
      "source": "Definition: Event-driven programming (EDP) is a programming paradigm where the flow of the program is determined by events—user actions, sensor outputs, or messages from other programs. Unlike procedural programming, where commands are executed in a pre-defined sequence, event-driven programming responds to external or internal stimuli in real time.\n",
      "metadata": {}
    },
    {
      "cell_type": "markdown",
      "source": "ChatGPT childish definition: Imagine you have a robot that can listen and react to things happening around it. It won’t do anything until something happens, like someone pressing a button or clapping their hands. Once it hears or sees something, it knows what to do next.\n\nIn event-driven programming, the robot (or program) waits for things called events to happen. An event could be:\n\nClicking a button (like pressing a toy’s button).\nMoving a mouse (like waving your hand in front of the robot).\nTyping on a keyboard (like pressing a key on the toy’s control pad).\nWhen the event happens, the robot does something special, like turning its lights on or saying \"hello.\" The robot has a list of instructions ready, but it only follows them when an event tells it to.\n\nSo, just like a robot waiting to hear a command, an event-driven program sits quietly until something happens, and then it reacts to it!\n",
      "metadata": {}
    },
    {
      "cell_type": "markdown",
      "source": "### My definition\nevent driven programms are doing nothing - they are waiting!",
      "metadata": {}
    },
    {
      "cell_type": "markdown",
      "source": "## Can we use all 3 approaches in one project?",
      "metadata": {}
    },
    {
      "cell_type": "markdown",
      "source": "Yes!\n",
      "metadata": {}
    },
    {
      "cell_type": "markdown",
      "source": "## Real world examples",
      "metadata": {}
    },
    {
      "cell_type": "markdown",
      "source": "every User Interface uses this approach",
      "metadata": {}
    },
    {
      "cell_type": "markdown",
      "source": "* mobile applications\n* desktop applications - Browser, Text editor etc.\n* every website\n* every game",
      "metadata": {}
    },
    {
      "cell_type": "markdown",
      "source": "### Example:",
      "metadata": {}
    },
    {
      "cell_type": "code",
      "source": "# TODO: This doesn't work on the JupyterLite. You have to run in your local env. Use Visual Studio etc.\nimport tkinter as tk\n\n# Event handler function (callback)\ndef on_button_click():\n    print(\"Button clicked!\")\n\n# Create the main window\nroot = tk.Tk()\nroot.title(\"Event-Driven Programming Example\")\n\n# Create a button and attach the event handler\nbutton = tk.Button(root, text=\"Click Me\", command=on_button_click)\nbutton.pack(pady=20)\n\n# Start the event loop\nroot.mainloop()\n\n",
      "metadata": {
        "trusted": true
      },
      "outputs": [
        {
          "ename": "<class 'ModuleNotFoundError'>",
          "evalue": "No module named 'ipywidgets'",
          "traceback": [
            "\u001b[0;31m---------------------------------------------------------------------------\u001b[0m",
            "\u001b[0;31mModuleNotFoundError\u001b[0m                       Traceback (most recent call last)",
            "Cell \u001b[0;32mIn[24], line 1\u001b[0m\n\u001b[0;32m----> 1\u001b[0m \u001b[38;5;28;01mimport\u001b[39;00m \u001b[38;5;21;01mipywidgets\u001b[39;00m \u001b[38;5;28;01mas\u001b[39;00m \u001b[38;5;21;01mwidgets\u001b[39;00m\n\u001b[1;32m      2\u001b[0m \u001b[38;5;28;01mfrom\u001b[39;00m \u001b[38;5;21;01mIPython\u001b[39;00m\u001b[38;5;21;01m.\u001b[39;00m\u001b[38;5;21;01mdisplay\u001b[39;00m \u001b[38;5;28;01mimport\u001b[39;00m display\n\u001b[1;32m      4\u001b[0m \u001b[38;5;66;03m# Create a button\u001b[39;00m\n",
            "\u001b[0;31mModuleNotFoundError\u001b[0m: No module named 'ipywidgets'"
          ],
          "output_type": "error"
        }
      ],
      "execution_count": 24
    },
    {
      "cell_type": "code",
      "source": "",
      "metadata": {
        "trusted": true
      },
      "outputs": [],
      "execution_count": null
    }
  ]
}