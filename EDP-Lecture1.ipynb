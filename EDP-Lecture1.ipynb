{
  "metadata": {
    "kernelspec": {
      "name": "python",
      "display_name": "Python (Pyodide)",
      "language": "python"
    },
    "language_info": {
      "codemirror_mode": {
        "name": "python",
        "version": 3
      },
      "file_extension": ".py",
      "mimetype": "text/x-python",
      "name": "python",
      "nbconvert_exporter": "python",
      "pygments_lexer": "ipython3",
      "version": "3.8"
    },
    "colab": {
      "provenance": []
    },
    "widgets": {
      "application/vnd.jupyter.widget-state+json": {
        "07a433af83cf43a096d9495df976740f": {
          "model_module": "@jupyter-widgets/controls",
          "model_name": "IntSliderModel",
          "model_module_version": "1.5.0",
          "state": {
            "_dom_classes": [],
            "_model_module": "@jupyter-widgets/controls",
            "_model_module_version": "1.5.0",
            "_model_name": "IntSliderModel",
            "_view_count": null,
            "_view_module": "@jupyter-widgets/controls",
            "_view_module_version": "1.5.0",
            "_view_name": "IntSliderView",
            "continuous_update": true,
            "description": "Number:",
            "description_tooltip": null,
            "disabled": false,
            "layout": "IPY_MODEL_2c1334f1552b422db9330f0798ae618b",
            "max": 10,
            "min": 0,
            "orientation": "horizontal",
            "readout": true,
            "readout_format": "d",
            "step": 1,
            "style": "IPY_MODEL_acfb3940582c413fa59f03b6048d161a",
            "value": 2
          }
        },
        "2c1334f1552b422db9330f0798ae618b": {
          "model_module": "@jupyter-widgets/base",
          "model_name": "LayoutModel",
          "model_module_version": "1.2.0",
          "state": {
            "_model_module": "@jupyter-widgets/base",
            "_model_module_version": "1.2.0",
            "_model_name": "LayoutModel",
            "_view_count": null,
            "_view_module": "@jupyter-widgets/base",
            "_view_module_version": "1.2.0",
            "_view_name": "LayoutView",
            "align_content": null,
            "align_items": null,
            "align_self": null,
            "border": null,
            "bottom": null,
            "display": null,
            "flex": null,
            "flex_flow": null,
            "grid_area": null,
            "grid_auto_columns": null,
            "grid_auto_flow": null,
            "grid_auto_rows": null,
            "grid_column": null,
            "grid_gap": null,
            "grid_row": null,
            "grid_template_areas": null,
            "grid_template_columns": null,
            "grid_template_rows": null,
            "height": null,
            "justify_content": null,
            "justify_items": null,
            "left": null,
            "margin": null,
            "max_height": null,
            "max_width": null,
            "min_height": null,
            "min_width": null,
            "object_fit": null,
            "object_position": null,
            "order": null,
            "overflow": null,
            "overflow_x": null,
            "overflow_y": null,
            "padding": null,
            "right": null,
            "top": null,
            "visibility": null,
            "width": null
          }
        },
        "acfb3940582c413fa59f03b6048d161a": {
          "model_module": "@jupyter-widgets/controls",
          "model_name": "SliderStyleModel",
          "model_module_version": "1.5.0",
          "state": {
            "_model_module": "@jupyter-widgets/controls",
            "_model_module_version": "1.5.0",
            "_model_name": "SliderStyleModel",
            "_view_count": null,
            "_view_module": "@jupyter-widgets/base",
            "_view_module_version": "1.2.0",
            "_view_name": "StyleView",
            "description_width": "",
            "handle_color": null
          }
        },
        "407deef5029b49ac84643d1e1acb2a66": {
          "model_module": "@jupyter-widgets/output",
          "model_name": "OutputModel",
          "model_module_version": "1.0.0",
          "state": {
            "_dom_classes": [],
            "_model_module": "@jupyter-widgets/output",
            "_model_module_version": "1.0.0",
            "_model_name": "OutputModel",
            "_view_count": null,
            "_view_module": "@jupyter-widgets/output",
            "_view_module_version": "1.0.0",
            "_view_name": "OutputView",
            "layout": "IPY_MODEL_7cbb4afeb6f742c3a5e721ec4d6675bd",
            "msg_id": "",
            "outputs": [
              {
                "output_type": "stream",
                "name": "stdout",
                "text": [
                  "Slider value: 4\n"
                ]
              },
              {
                "output_type": "stream",
                "name": "stdout",
                "text": [
                  "Slider value: 3\n"
                ]
              },
              {
                "output_type": "stream",
                "name": "stdout",
                "text": [
                  "Slider value: 4\n"
                ]
              },
              {
                "output_type": "stream",
                "name": "stdout",
                "text": [
                  "Slider value: 3\n"
                ]
              },
              {
                "output_type": "stream",
                "name": "stdout",
                "text": [
                  "Slider value: 2\n"
                ]
              },
              {
                "output_type": "stream",
                "name": "stdout",
                "text": [
                  "Slider value: 3\n"
                ]
              },
              {
                "output_type": "stream",
                "name": "stdout",
                "text": [
                  "Slider value: 4\n"
                ]
              },
              {
                "output_type": "stream",
                "name": "stdout",
                "text": [
                  "Slider value: 3\n"
                ]
              },
              {
                "output_type": "stream",
                "name": "stdout",
                "text": [
                  "Slider value: 2\n"
                ]
              }
            ]
          }
        },
        "7cbb4afeb6f742c3a5e721ec4d6675bd": {
          "model_module": "@jupyter-widgets/base",
          "model_name": "LayoutModel",
          "model_module_version": "1.2.0",
          "state": {
            "_model_module": "@jupyter-widgets/base",
            "_model_module_version": "1.2.0",
            "_model_name": "LayoutModel",
            "_view_count": null,
            "_view_module": "@jupyter-widgets/base",
            "_view_module_version": "1.2.0",
            "_view_name": "LayoutView",
            "align_content": null,
            "align_items": null,
            "align_self": null,
            "border": null,
            "bottom": null,
            "display": null,
            "flex": null,
            "flex_flow": null,
            "grid_area": null,
            "grid_auto_columns": null,
            "grid_auto_flow": null,
            "grid_auto_rows": null,
            "grid_column": null,
            "grid_gap": null,
            "grid_row": null,
            "grid_template_areas": null,
            "grid_template_columns": null,
            "grid_template_rows": null,
            "height": null,
            "justify_content": null,
            "justify_items": null,
            "left": null,
            "margin": null,
            "max_height": null,
            "max_width": null,
            "min_height": null,
            "min_width": null,
            "object_fit": null,
            "object_position": null,
            "order": null,
            "overflow": null,
            "overflow_x": null,
            "overflow_y": null,
            "padding": null,
            "right": null,
            "top": null,
            "visibility": null,
            "width": null
          }
        }
      }
    }
  },
  "nbformat_minor": 0,
  "nbformat": 4,
  "cells": [
    {
      "cell_type": "markdown",
      "source": [
        "# Event Driven Programming"
      ],
      "metadata": {
        "id": "ujD_MLtQFUdG"
      }
    },
    {
      "cell_type": "markdown",
      "source": [
        "1. We will use Python - Until November 20\n",
        "2. Then we will jump into Node.js"
      ],
      "metadata": {
        "id": "ylEj1vS8FUdH"
      }
    },
    {
      "cell_type": "markdown",
      "source": [
        "# What is EDP?"
      ],
      "metadata": {
        "id": "uvcTclseFUdI"
      }
    },
    {
      "cell_type": "markdown",
      "source": [
        "Event-driven programming (EDP) is a programming paradigm where the flow of the program is determined by events—user actions, sensor outputs, or messages from other programs. Unlike procedural programming, where commands are executed in a pre-defined sequence, event-driven programming responds to external or internal stimuli in real time.\n",
        "\n"
      ],
      "metadata": {
        "id": "S-jRT9ZIFUdI"
      }
    },
    {
      "cell_type": "markdown",
      "source": [
        "## Programming Paradigms"
      ],
      "metadata": {
        "id": "cUWx-g9wFUdI"
      }
    },
    {
      "cell_type": "markdown",
      "source": [
        "### Procedural: Follows a strict, top-down flow of execution.\n",
        "### OOP: Organizes code into objects, but execution is still sequential unless external actions explicitly call methods.\n",
        "### Event-Driven: Execution depends on events (user actions, sensor outputs), and the program typically stays idle (in an event loop) until something triggers it."
      ],
      "metadata": {
        "id": "7MJYqZF5FUdJ"
      }
    },
    {
      "cell_type": "markdown",
      "source": [
        "### Procedural (top-down)"
      ],
      "metadata": {
        "id": "iXfmBBU2FUdJ"
      }
    },
    {
      "cell_type": "code",
      "source": [
        "def say_hello():\n",
        "    print(\"Hello\")\n",
        "    print(\"Hello\")\n",
        "    print(\"Hello\")\n",
        "\n",
        "def main():\n",
        "    say_hello()\n",
        "\n",
        "main()"
      ],
      "metadata": {
        "trusted": true,
        "id": "WYib91qqFUdJ",
        "outputId": "a6111177-2888-4d0d-b5de-7e9f0b5a9693"
      },
      "outputs": [
        {
          "name": "stdout",
          "text": "Hello\nHello\nHello\n",
          "output_type": "stream"
        }
      ],
      "execution_count": null
    },
    {
      "cell_type": "markdown",
      "source": [
        "## Object Oriented Programming"
      ],
      "metadata": {
        "id": "NEpOueWAFUdK"
      }
    },
    {
      "cell_type": "code",
      "source": [
        "# we define a class\n",
        "class Animal:\n",
        "    def __init__(self, name):\n",
        "        self.name = name\n",
        "\n",
        "def main():\n",
        "    # we create an instance of that class (object)\n",
        "    cat1 = Animal('Cat')\n",
        "\n",
        "    # we call a method on that instance\n",
        "    print(\"This is a\", cat1.name)\n",
        "\n",
        "main()\n",
        ""
      ],
      "metadata": {
        "trusted": true,
        "id": "NRUOQNemFUdL",
        "outputId": "142f9a69-5fd4-42e6-a8e5-4a9536005786"
      },
      "outputs": [
        {
          "name": "stdout",
          "text": "This is a Cat\n",
          "output_type": "stream"
        }
      ],
      "execution_count": null
    },
    {
      "cell_type": "markdown",
      "source": [
        "## Event Driven Programming"
      ],
      "metadata": {
        "id": "oK5KET8iFUdL"
      }
    },
    {
      "cell_type": "markdown",
      "source": [
        "Definition: Event-driven programming (EDP) is a programming paradigm where the flow of the program is determined by events—user actions, sensor outputs, or messages from other programs. Unlike procedural programming, where commands are executed in a pre-defined sequence, event-driven programming responds to external or internal stimuli in real time.\n"
      ],
      "metadata": {
        "id": "Pt36cUOKFUdL"
      }
    },
    {
      "cell_type": "markdown",
      "source": [
        "ChatGPT childish definition: Imagine you have a robot that can listen and react to things happening around it. It won’t do anything until something happens, like someone pressing a button or clapping their hands. Once it hears or sees something, it knows what to do next.\n",
        "\n",
        "In event-driven programming, the robot (or program) waits for things called events to happen. An event could be:\n",
        "\n",
        "Clicking a button (like pressing a toy’s button).\n",
        "Moving a mouse (like waving your hand in front of the robot).\n",
        "Typing on a keyboard (like pressing a key on the toy’s control pad).\n",
        "When the event happens, the robot does something special, like turning its lights on or saying \"hello.\" The robot has a list of instructions ready, but it only follows them when an event tells it to.\n",
        "\n",
        "So, just like a robot waiting to hear a command, an event-driven program sits quietly until something happens, and then it reacts to it!\n"
      ],
      "metadata": {
        "id": "WLR7DqWPFUdL"
      }
    },
    {
      "cell_type": "markdown",
      "source": [
        "### My definition\n",
        "event driven programms are doing nothing - they are waiting!"
      ],
      "metadata": {
        "id": "cLNje4vmFUdM"
      }
    },
    {
      "cell_type": "markdown",
      "source": [
        "## Can we use all 3 approaches in one project?"
      ],
      "metadata": {
        "id": "xLipeEwpFUdM"
      }
    },
    {
      "cell_type": "markdown",
      "source": [
        "Yes!\n"
      ],
      "metadata": {
        "id": "DAktsezqFUdM"
      }
    },
    {
      "cell_type": "markdown",
      "source": [
        "## Real world examples"
      ],
      "metadata": {
        "id": "5qkk8muQFUdM"
      }
    },
    {
      "cell_type": "markdown",
      "source": [
        "every User Interface uses this approach"
      ],
      "metadata": {
        "id": "huH7JaCzFUdM"
      }
    },
    {
      "cell_type": "markdown",
      "source": [
        "* mobile applications\n",
        "* desktop applications - Browser, Text editor etc.\n",
        "* every website\n",
        "* every game"
      ],
      "metadata": {
        "id": "RI-_7upyFUdM"
      }
    },
    {
      "cell_type": "markdown",
      "source": [
        "### Example:"
      ],
      "metadata": {
        "id": "WwLA0AFaFUdM"
      }
    },
    {
      "cell_type": "code",
      "source": [
        "# TODO: This doesn't work on the JupyterLite. You have to run in your local env. Use Visual Studio etc.\n",
        "import tkinter as tk\n",
        "\n",
        "# Event handler function (callback)\n",
        "def on_button_click():\n",
        "    print(\"Button clicked!\")\n",
        "\n",
        "# Create the main window\n",
        "root = tk.Tk()\n",
        "root.title(\"Event-Driven Programming Example\")\n",
        "\n",
        "# Create a button and attach the event handler\n",
        "button = tk.Button(root, text=\"Click Me\", command=on_button_click)\n",
        "button.pack(pady=20)\n",
        "\n",
        "# Start the event loop\n",
        "root.mainloop()\n",
        "\n"
      ],
      "metadata": {
        "trusted": true,
        "colab": {
          "base_uri": "https://localhost:8080/",
          "height": 341
        },
        "id": "Gcc9t5MmFUdN",
        "outputId": "8705f894-09d7-462f-9cae-03bd8176f853"
      },
      "outputs": [
        {
          "output_type": "error",
          "ename": "TclError",
          "evalue": "no display name and no $DISPLAY environment variable",
          "traceback": [
            "\u001b[0;31m---------------------------------------------------------------------------\u001b[0m",
            "\u001b[0;31mTclError\u001b[0m                                  Traceback (most recent call last)",
            "\u001b[0;32m<ipython-input-1-3ef5ba7252d7>\u001b[0m in \u001b[0;36m<cell line: 9>\u001b[0;34m()\u001b[0m\n\u001b[1;32m      7\u001b[0m \u001b[0;34m\u001b[0m\u001b[0m\n\u001b[1;32m      8\u001b[0m \u001b[0;31m# Create the main window\u001b[0m\u001b[0;34m\u001b[0m\u001b[0;34m\u001b[0m\u001b[0m\n\u001b[0;32m----> 9\u001b[0;31m \u001b[0mroot\u001b[0m \u001b[0;34m=\u001b[0m \u001b[0mtk\u001b[0m\u001b[0;34m.\u001b[0m\u001b[0mTk\u001b[0m\u001b[0;34m(\u001b[0m\u001b[0;34m)\u001b[0m\u001b[0;34m\u001b[0m\u001b[0;34m\u001b[0m\u001b[0m\n\u001b[0m\u001b[1;32m     10\u001b[0m \u001b[0mroot\u001b[0m\u001b[0;34m.\u001b[0m\u001b[0mtitle\u001b[0m\u001b[0;34m(\u001b[0m\u001b[0;34m\"Event-Driven Programming Example\"\u001b[0m\u001b[0;34m)\u001b[0m\u001b[0;34m\u001b[0m\u001b[0;34m\u001b[0m\u001b[0m\n\u001b[1;32m     11\u001b[0m \u001b[0;34m\u001b[0m\u001b[0m\n",
            "\u001b[0;32m/usr/lib/python3.10/tkinter/__init__.py\u001b[0m in \u001b[0;36m__init__\u001b[0;34m(self, screenName, baseName, className, useTk, sync, use)\u001b[0m\n\u001b[1;32m   2297\u001b[0m                 \u001b[0mbaseName\u001b[0m \u001b[0;34m=\u001b[0m \u001b[0mbaseName\u001b[0m \u001b[0;34m+\u001b[0m \u001b[0mext\u001b[0m\u001b[0;34m\u001b[0m\u001b[0;34m\u001b[0m\u001b[0m\n\u001b[1;32m   2298\u001b[0m         \u001b[0minteractive\u001b[0m \u001b[0;34m=\u001b[0m \u001b[0;32mFalse\u001b[0m\u001b[0;34m\u001b[0m\u001b[0;34m\u001b[0m\u001b[0m\n\u001b[0;32m-> 2299\u001b[0;31m         \u001b[0mself\u001b[0m\u001b[0;34m.\u001b[0m\u001b[0mtk\u001b[0m \u001b[0;34m=\u001b[0m \u001b[0m_tkinter\u001b[0m\u001b[0;34m.\u001b[0m\u001b[0mcreate\u001b[0m\u001b[0;34m(\u001b[0m\u001b[0mscreenName\u001b[0m\u001b[0;34m,\u001b[0m \u001b[0mbaseName\u001b[0m\u001b[0;34m,\u001b[0m \u001b[0mclassName\u001b[0m\u001b[0;34m,\u001b[0m \u001b[0minteractive\u001b[0m\u001b[0;34m,\u001b[0m \u001b[0mwantobjects\u001b[0m\u001b[0;34m,\u001b[0m \u001b[0museTk\u001b[0m\u001b[0;34m,\u001b[0m \u001b[0msync\u001b[0m\u001b[0;34m,\u001b[0m \u001b[0muse\u001b[0m\u001b[0;34m)\u001b[0m\u001b[0;34m\u001b[0m\u001b[0;34m\u001b[0m\u001b[0m\n\u001b[0m\u001b[1;32m   2300\u001b[0m         \u001b[0;32mif\u001b[0m \u001b[0museTk\u001b[0m\u001b[0;34m:\u001b[0m\u001b[0;34m\u001b[0m\u001b[0;34m\u001b[0m\u001b[0m\n\u001b[1;32m   2301\u001b[0m             \u001b[0mself\u001b[0m\u001b[0;34m.\u001b[0m\u001b[0m_loadtk\u001b[0m\u001b[0;34m(\u001b[0m\u001b[0;34m)\u001b[0m\u001b[0;34m\u001b[0m\u001b[0;34m\u001b[0m\u001b[0m\n",
            "\u001b[0;31mTclError\u001b[0m: no display name and no $DISPLAY environment variable"
          ]
        }
      ],
      "execution_count": 1
    },
    {
      "cell_type": "code",
      "source": [],
      "metadata": {
        "trusted": true,
        "id": "r5gbnPy9FUdN"
      },
      "outputs": [],
      "execution_count": null
    },
    {
      "cell_type": "code",
      "source": [
        "import ipywidgets as widgets\n",
        "from IPython.display import display\n",
        "\n",
        "# Create a slider widget\n",
        "slider = widgets.IntSlider(value=5, min=0, max=10, description=\"Number:\")\n",
        "\n",
        "# Create an output area\n",
        "output = widgets.Output()\n",
        "\n",
        "# Function to display slider value\n",
        "def on_slider_change(change):\n",
        "    with output:\n",
        "        # output.clear_output()\n",
        "        print(f\"Slider value: {change['new']}\")\n",
        "\n",
        "# Attach the event handler\n",
        "slider.observe(on_slider_change, names='value')\n",
        "\n",
        "# Display the slider and output area\n",
        "display(slider, output)\n"
      ],
      "metadata": {
        "colab": {
          "base_uri": "https://localhost:8080/",
          "height": 210,
          "referenced_widgets": [
            "07a433af83cf43a096d9495df976740f",
            "2c1334f1552b422db9330f0798ae618b",
            "acfb3940582c413fa59f03b6048d161a",
            "407deef5029b49ac84643d1e1acb2a66",
            "7cbb4afeb6f742c3a5e721ec4d6675bd"
          ]
        },
        "id": "one_tympFlFE",
        "outputId": "c1358099-0291-4387-deeb-7777711e7303"
      },
      "execution_count": 5,
      "outputs": [
        {
          "output_type": "display_data",
          "data": {
            "text/plain": [
              "IntSlider(value=5, description='Number:', max=10)"
            ],
            "application/vnd.jupyter.widget-view+json": {
              "version_major": 2,
              "version_minor": 0,
              "model_id": "07a433af83cf43a096d9495df976740f"
            }
          },
          "metadata": {}
        },
        {
          "output_type": "display_data",
          "data": {
            "text/plain": [
              "Output()"
            ],
            "application/vnd.jupyter.widget-view+json": {
              "version_major": 2,
              "version_minor": 0,
              "model_id": "407deef5029b49ac84643d1e1acb2a66"
            }
          },
          "metadata": {}
        }
      ]
    }
  ]
}