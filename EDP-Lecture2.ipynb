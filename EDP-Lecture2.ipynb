{
  "metadata": {
    "kernelspec": {
      "name": "python",
      "display_name": "Python (Pyodide)",
      "language": "python"
    },
    "language_info": {
      "codemirror_mode": {
        "name": "python",
        "version": 3
      },
      "file_extension": ".py",
      "mimetype": "text/x-python",
      "name": "python",
      "nbconvert_exporter": "python",
      "pygments_lexer": "ipython3",
      "version": "3.8"
    }
  },
  "nbformat_minor": 4,
  "nbformat": 4,
  "cells": [
    {
      "cell_type": "markdown",
      "source": "# Event Driven Programming 2",
      "metadata": {}
    },
    {
      "cell_type": "markdown",
      "source": "## Simplest event drive example",
      "metadata": {}
    },
    {
      "cell_type": "code",
      "source": "# Event handler function\ndef on_keypress():\n    print(\"You pressed a key!\")\n\n# Main loop to simulate event-driven behavior\nwhile True:\n    event = input(\"Press any key and hit Enter (type 'exit' to quit): \")\n    if event == 'exit':\n        break\n    else:\n        on_keypress()",
      "metadata": {
        "trusted": true
      },
      "outputs": [],
      "execution_count": null
    },
    {
      "cell_type": "code",
      "source": "",
      "metadata": {
        "trusted": true
      },
      "outputs": [],
      "execution_count": null
    }
  ]
}